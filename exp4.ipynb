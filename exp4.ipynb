{
  "nbformat": 4,
  "nbformat_minor": 0,
  "metadata": {
    "colab": {
      "name": "exp4.ipynb",
      "provenance": [],
      "authorship_tag": "ABX9TyPH88kyWQAZAHFhUN0G3mez",
      "include_colab_link": true
    },
    "kernelspec": {
      "name": "python3",
      "display_name": "Python 3"
    },
    "language_info": {
      "name": "python"
    }
  },
  "cells": [
    {
      "cell_type": "markdown",
      "metadata": {
        "id": "view-in-github",
        "colab_type": "text"
      },
      "source": [
        "<a href=\"https://colab.research.google.com/github/Devika12313/DSML/blob/main/exp4.ipynb\" target=\"_parent\"><img src=\"https://colab.research.google.com/assets/colab-badge.svg\" alt=\"Open In Colab\"/></a>"
      ]
    },
    {
      "cell_type": "code",
      "metadata": {
        "id": "zeLXsjnBRs1b"
      },
      "source": [
        "import pandas as pd\n",
        "import numpy as np\n",
        "import matplotlib.pyplot as plt\n",
        "import seaborn as sns\n",
        "from scipy import stats\n",
        "\n"
      ],
      "execution_count": 8,
      "outputs": []
    },
    {
      "cell_type": "code",
      "metadata": {
        "id": "XigA2DSiVo8O"
      },
      "source": [
        "movies= pd.read_csv(\"IMDb movies.csv\")"
      ],
      "execution_count": null,
      "outputs": []
    },
    {
      "cell_type": "code",
      "metadata": {
        "id": "yA3QXudmVvKa"
      },
      "source": [
        "#print the first few with headers \n",
        "print(movies.head(5))"
      ],
      "execution_count": null,
      "outputs": []
    },
    {
      "cell_type": "code",
      "metadata": {
        "colab": {
          "base_uri": "https://localhost:8080/"
        },
        "id": "HymRK3cEWsOx",
        "outputId": "5c8b84de-8c91-47f8-e4f6-d77e6d7241ff"
      },
      "source": [
        "#discriptive statistics\n",
        "print(movies.describe())"
      ],
      "execution_count": 14,
      "outputs": [
        {
          "output_type": "stream",
          "name": "stdout",
          "text": [
            "           duration      avg_vote  ...  reviews_from_users  reviews_from_critics\n",
            "count  85855.000000  85855.000000  ...        78258.000000          74058.000000\n",
            "mean     100.351418      5.898656  ...           46.040826             27.479989\n",
            "std       22.553848      1.234987  ...          178.511411             58.339158\n",
            "min       41.000000      1.000000  ...            1.000000              1.000000\n",
            "25%       88.000000      5.200000  ...            4.000000              3.000000\n",
            "50%       96.000000      6.100000  ...            9.000000              8.000000\n",
            "75%      108.000000      6.800000  ...           27.000000             23.000000\n",
            "max      808.000000      9.900000  ...        10472.000000            999.000000\n",
            "\n",
            "[8 rows x 6 columns]\n"
          ]
        }
      ]
    },
    {
      "cell_type": "code",
      "metadata": {
        "colab": {
          "base_uri": "https://localhost:8080/"
        },
        "id": "BHfBKQSsZjiO",
        "outputId": "76f3ccc7-22ab-4b11-e51a-b488e8dcd5c3"
      },
      "source": [
        "#check the column name\n",
        "print(\"column names:%s\" %movies.columns.values)"
      ],
      "execution_count": 15,
      "outputs": [
        {
          "output_type": "stream",
          "name": "stdout",
          "text": [
            "column names:['imdb_title_id' 'title' 'original_title' 'year' 'date_published' 'genre'\n",
            " 'duration' 'country' 'language' 'director' 'writer' 'production_company'\n",
            " 'actors' 'description' 'avg_vote' 'votes' 'budget' 'usa_gross_income'\n",
            " 'worlwide_gross_income' 'metascore' 'reviews_from_users'\n",
            " 'reviews_from_critics']\n"
          ]
        }
      ]
    },
    {
      "cell_type": "code",
      "metadata": {
        "colab": {
          "base_uri": "https://localhost:8080/"
        },
        "id": "V8-2yeMdbGyk",
        "outputId": "0181a21a-79ad-4f70-cb7c-9b5ecdeccb74"
      },
      "source": [
        "print(movies.dtypes)\n",
        "print(movies.shape)"
      ],
      "execution_count": 16,
      "outputs": [
        {
          "output_type": "stream",
          "name": "stdout",
          "text": [
            "imdb_title_id             object\n",
            "title                     object\n",
            "original_title            object\n",
            "year                      object\n",
            "date_published            object\n",
            "genre                     object\n",
            "duration                   int64\n",
            "country                   object\n",
            "language                  object\n",
            "director                  object\n",
            "writer                    object\n",
            "production_company        object\n",
            "actors                    object\n",
            "description               object\n",
            "avg_vote                 float64\n",
            "votes                      int64\n",
            "budget                    object\n",
            "usa_gross_income          object\n",
            "worlwide_gross_income     object\n",
            "metascore                float64\n",
            "reviews_from_users       float64\n",
            "reviews_from_critics     float64\n",
            "dtype: object\n",
            "(85855, 22)\n"
          ]
        }
      ]
    },
    {
      "cell_type": "code",
      "metadata": {
        "colab": {
          "base_uri": "https://localhost:8080/"
        },
        "id": "MOfqbi0wa1cF",
        "outputId": "893e01c0-5879-484b-b477-bca68f295e5b"
      },
      "source": [
        "#check null data\n",
        "print(\"null value:\\n\")\n",
        "print(movies.isna()) #same as movies.isnull().sum()\n",
        "print(movies.isna().sum())\n",
        "print(\"null values %s\" %movies.isnull().values.any())\n",
        "print(\"null values %s\"%movies.isna().sum().sum())\n",
        "print(movies.describe())"
      ],
      "execution_count": 18,
      "outputs": [
        {
          "output_type": "stream",
          "name": "stdout",
          "text": [
            "null value:\n",
            "\n",
            "       imdb_title_id  title  ...  reviews_from_users  reviews_from_critics\n",
            "0              False  False  ...               False                 False\n",
            "1              False  False  ...               False                 False\n",
            "2              False  False  ...               False                 False\n",
            "3              False  False  ...               False                 False\n",
            "4              False  False  ...               False                 False\n",
            "...              ...    ...  ...                 ...                   ...\n",
            "85850          False  False  ...                True                 False\n",
            "85851          False  False  ...               False                 False\n",
            "85852          False  False  ...                True                  True\n",
            "85853          False  False  ...                True                  True\n",
            "85854          False  False  ...                True                 False\n",
            "\n",
            "[85855 rows x 22 columns]\n",
            "imdb_title_id                0\n",
            "title                        0\n",
            "original_title               0\n",
            "year                         0\n",
            "date_published               0\n",
            "genre                        0\n",
            "duration                     0\n",
            "country                     64\n",
            "language                   833\n",
            "director                    87\n",
            "writer                    1572\n",
            "production_company        4455\n",
            "actors                      69\n",
            "description               2115\n",
            "avg_vote                     0\n",
            "votes                        0\n",
            "budget                   62145\n",
            "usa_gross_income         70529\n",
            "worlwide_gross_income    54839\n",
            "metascore                72550\n",
            "reviews_from_users        7597\n",
            "reviews_from_critics     11797\n",
            "dtype: int64\n",
            "null values True\n",
            "null values 288652\n",
            "           duration      avg_vote  ...  reviews_from_users  reviews_from_critics\n",
            "count  85855.000000  85855.000000  ...        78258.000000          74058.000000\n",
            "mean     100.351418      5.898656  ...           46.040826             27.479989\n",
            "std       22.553848      1.234987  ...          178.511411             58.339158\n",
            "min       41.000000      1.000000  ...            1.000000              1.000000\n",
            "25%       88.000000      5.200000  ...            4.000000              3.000000\n",
            "50%       96.000000      6.100000  ...            9.000000              8.000000\n",
            "75%      108.000000      6.800000  ...           27.000000             23.000000\n",
            "max      808.000000      9.900000  ...        10472.000000            999.000000\n",
            "\n",
            "[8 rows x 6 columns]\n"
          ]
        }
      ]
    }
  ]
}