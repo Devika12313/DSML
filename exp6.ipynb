{
  "nbformat": 4,
  "nbformat_minor": 0,
  "metadata": {
    "colab": {
      "name": "exp6.ipynb",
      "provenance": [],
      "authorship_tag": "ABX9TyPfhTEQZgRBCflpHQamzwJP",
      "include_colab_link": true
    },
    "kernelspec": {
      "name": "python3",
      "display_name": "Python 3"
    },
    "language_info": {
      "name": "python"
    }
  },
  "cells": [
    {
      "cell_type": "markdown",
      "metadata": {
        "id": "view-in-github",
        "colab_type": "text"
      },
      "source": [
        "<a href=\"https://colab.research.google.com/github/Devika12313/DSML/blob/main/exp6.ipynb\" target=\"_parent\"><img src=\"https://colab.research.google.com/assets/colab-badge.svg\" alt=\"Open In Colab\"/></a>"
      ]
    },
    {
      "cell_type": "code",
      "execution_count": null,
      "metadata": {
        "id": "cdyeicfykdTd"
      },
      "outputs": [],
      "source": [
        "#Import Libraries\n",
        "import numpy as np\n",
        "import pandas as pd\n",
        "from sklearn.model_selection import train_test_split\n",
        "\n",
        "# Model specific Library\n",
        "from sklearn.naive_bayes import GaussianNB\n",
        "from sklearn.naive_bayes import MultinomialNB\n",
        "from sklearn.naive_bayes import BernoulliNB\n",
        "\n",
        "#Load Dataset\n",
        "from sklearn.datasets import load_breast_cancer\n",
        "breast_cancer = load_breast_cancer()"
      ]
    },
    {
      "cell_type": "code",
      "source": [
        "#get the keys from this dictionary using key.\n",
        "breast_cancer"
      ],
      "metadata": {
        "id": "SCwegSiakj-5"
      },
      "execution_count": null,
      "outputs": []
    },
    {
      "cell_type": "code",
      "source": [
        "#Actual data\n",
        "breast_cancer.data"
      ],
      "metadata": {
        "id": "k8UYoG8FksfN"
      },
      "execution_count": null,
      "outputs": []
    },
    {
      "cell_type": "code",
      "source": [
        "# These are the feature names for our dataset (data)\n",
        "breast_cancer.feature_names\n"
      ],
      "metadata": {
        "id": "5KXWbM_Jkv3J"
      },
      "execution_count": null,
      "outputs": []
    },
    {
      "cell_type": "code",
      "source": [
        "# These are our target data\n",
        "breast_cancer.target\n"
      ],
      "metadata": {
        "id": "6irgJTiZkzq1"
      },
      "execution_count": null,
      "outputs": []
    },
    {
      "cell_type": "code",
      "source": [
        "breast_cancer.target_names"
      ],
      "metadata": {
        "id": "LECoPI0Sk1Xg"
      },
      "execution_count": null,
      "outputs": []
    },
    {
      "cell_type": "code",
      "source": [
        "#create data frame\n",
        "df = pd.DataFrame(\n",
        "    np.c_[breast_cancer.data, breast_cancer.target], \n",
        "    columns = [list(breast_cancer.feature_names)+ ['target']]\n",
        "                 )"
      ],
      "metadata": {
        "id": "YYEzcLHRk6WR"
      },
      "execution_count": null,
      "outputs": []
    },
    {
      "cell_type": "code",
      "source": [
        "X_train, X_val, y_train, y_val = train_test_split(X, y, test_size = 0.2, random_state = 999)\n",
        "X_train.shape, y_train.shape, X_val.shape, y_val.shape\n"
      ],
      "metadata": {
        "id": "caIBHSlWlCT5"
      },
      "execution_count": null,
      "outputs": []
    },
    {
      "cell_type": "code",
      "source": [
        "#Train Naive Bayes Classifier Model Gaussian Naive Bayes\n",
        "\n",
        "clf = GaussianNB()\n",
        "clf.fit(X_train, y_train)\n"
      ],
      "metadata": {
        "id": "0BVT6TJklFr5"
      },
      "execution_count": null,
      "outputs": []
    },
    {
      "cell_type": "code",
      "source": [
        "clf.score(X_val, y_val)\n"
      ],
      "metadata": {
        "id": "cSzirWTllMEs"
      },
      "execution_count": null,
      "outputs": []
    },
    {
      "cell_type": "code",
      "source": [
        "pd.set_option('display.max_columns', None)\n",
        "# print(df.iloc[99])\n",
        "df[99:100]"
      ],
      "metadata": {
        "id": "sZ0mCIJUlPPJ"
      },
      "execution_count": null,
      "outputs": []
    },
    {
      "cell_type": "code",
      "source": [
        "patient1 = [14.42,19.77,94.48,642.5,0.09752,0.1141,0.09388,0.05839,0.1879,0.0639,0.2895,1.851,2.376,26.85,0.008005,0.02895,0.03321,0.01424,0.01462,0.004452,16.33,30.86,109.5,826.4,0.1431,0.3026,0.3194,0.1565,0.2718,0.09353]\n",
        "patient1\n",
        "patient1 = np.array([patient1])\n",
        "patient1\n",
        "pred = clf.predict(patient1)\n",
        "if pred[0] == 0:\n",
        "    print(\"Patient is suffering from Cancer (Malignant Tumor)\")\n",
        "else:\n",
        "    print(\"Patient has no Cancer (Benign)\")\n"
      ],
      "metadata": {
        "id": "OfNPN2lqlYUD"
      },
      "execution_count": null,
      "outputs": []
    },
    {
      "cell_type": "code",
      "source": [
        "#probability of the prediction.\n",
        "\n",
        "pred_prob = clf.predict_proba(patient1)\n",
        "pred_prob\n"
      ],
      "metadata": {
        "id": "1HYfM4GJlcym"
      },
      "execution_count": null,
      "outputs": []
    },
    {
      "cell_type": "code",
      "source": [
        "import matplotlib.pyplot as plt\n",
        "import seaborn as sns\n",
        "plt.bar(breast_cancer.target_names, pred_prob[0])\n",
        "plt.title('Prediction Probability for Malignant Vs Benign')\n",
        "plt.xlabel('Probability')\n",
        "plt.xticks(pred_prob[0])\n",
        "plt.ylabel('y') \n",
        "plt.show()\n"
      ],
      "metadata": {
        "id": "E0_nHAYQlgPz"
      },
      "execution_count": null,
      "outputs": []
    },
    {
      "cell_type": "code",
      "source": [
        "import matplotlib.pyplot as plt\n",
        "import seaborn as sns\n",
        "sns.barplot(y = pred_prob[0], x = breast_cancer.target_names)"
      ],
      "metadata": {
        "id": "OAzf3shXlkad"
      },
      "execution_count": null,
      "outputs": []
    },
    {
      "cell_type": "code",
      "source": [
        "line = plt.bar(breast_cancer.target_names,pred_prob[0])\n",
        "plt.xlabel('Probability')\n",
        "plt.ylabel(\"Value\")\n",
        "\n",
        "for i in range(2):\n",
        "    plt.annotate(str(round(pred_prob[0][i],2)), xy=(breast_cancer.target_names[i],pred_prob[0][i]))\n",
        "\n",
        "plt.show()\n"
      ],
      "metadata": {
        "id": "hbYMJ3gqlq0Z"
      },
      "execution_count": null,
      "outputs": []
    }
  ]
}