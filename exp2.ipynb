{
  "nbformat": 4,
  "nbformat_minor": 0,
  "metadata": {
    "colab": {
      "name": "exp2.ipynb",
      "provenance": [],
      "authorship_tag": "ABX9TyPvUTL3uZaHw95u2f74SM9C",
      "include_colab_link": true
    },
    "kernelspec": {
      "name": "python3",
      "display_name": "Python 3"
    },
    "language_info": {
      "name": "python"
    }
  },
  "cells": [
    {
      "cell_type": "markdown",
      "metadata": {
        "id": "view-in-github",
        "colab_type": "text"
      },
      "source": [
        "<a href=\"https://colab.research.google.com/github/Devika12313/DSML/blob/main/exp2.ipynb\" target=\"_parent\"><img src=\"https://colab.research.google.com/assets/colab-badge.svg\" alt=\"Open In Colab\"/></a>"
      ]
    },
    {
      "cell_type": "markdown",
      "metadata": {
        "id": "8i-YbKBJ9Aic"
      },
      "source": [
        "exp2"
      ]
    },
    {
      "cell_type": "markdown",
      "metadata": {
        "id": "0g1hUPso9AgA"
      },
      "source": [
        ""
      ]
    },
    {
      "cell_type": "code",
      "metadata": {
        "colab": {
          "base_uri": "https://localhost:8080/"
        },
        "id": "D3Lkl3tz8--c",
        "outputId": "8fc2b561-bad1-4680-9506-76664f715ee1"
      },
      "source": [
        "import numpy as np\n",
        "from timeit import Timer\n",
        " \n",
        "# Creating a large array of size 10**5\n",
        "array = np.random.randint(1000, size=10**5)\n",
        " \n",
        "def sum_using_forloop():\n",
        "  sum_array=0\n",
        "  for element in array:\n",
        "    sum_array += element\n",
        " \n",
        "def sum_using_builtin_method():\n",
        "  sum_array = sum(array)\n",
        " \n",
        "def sum_using_numpy():\n",
        "  sum_array = np.sum(array)\n",
        " \n",
        "time_forloop = Timer(sum_using_forloop).timeit(1)\n",
        "time_builtin = Timer(sum_using_builtin_method).timeit(1)\n",
        "time_numpy = Timer(sum_using_numpy).timeit(1)\n",
        " \n",
        "print(\"Summing elements takes %0.9f units using for loop\"%time_forloop)\n",
        "print(\"Summing elements takes %0.9f units using builtin method\"%time_builtin)\n",
        "print(\"Summing elements takes %0.9f units using numpy\"%time_numpy)\n",
        " \n",
        "print()\n",
        " \n",
        "def max_using_forloop():\n",
        "  maximum=array[0]\n",
        "  for element in array:\n",
        "    if element > maximum:\n",
        "      maximum = element\n",
        " \n",
        "def max_using_builtin_method():\n",
        "  maximum = max(array)\n",
        " \n",
        "def max_using_numpy():\n",
        "  maximum = np.max(array)\n",
        " \n",
        "time_forloop = Timer(max_using_forloop).timeit(1)\n",
        "time_builtin = Timer(max_using_builtin_method).timeit(1)\n",
        "time_numpy = Timer(max_using_numpy).timeit(1)\n",
        " \n",
        "print(\"Finding maximum element takes %0.9f units using for loop\"%time_forloop)\n",
        "print(\"Finding maximum element takes %0.9f units using built-in method\"%time_builtin)\n",
        "print(\"Finding maximum element takes %0.9f units using numpy\"%time_numpy)\n"
      ],
      "execution_count": 3,
      "outputs": [
        {
          "output_type": "stream",
          "name": "stdout",
          "text": [
            "Summing elements takes 0.023601285 units using for loop\n",
            "Summing elements takes 0.018663223 units using builtin method\n",
            "Summing elements takes 0.000107940 units using numpy\n",
            "\n",
            "Finding maximum element takes 0.013543203 units using for loop\n",
            "Finding maximum element takes 0.011820042 units using built-in method\n",
            "Finding maximum element takes 0.000164040 units using numpy\n"
          ]
        }
      ]
    },
    {
      "cell_type": "code",
      "metadata": {
        "colab": {
          "base_uri": "https://localhost:8080/"
        },
        "id": "3qm2HSCMHXox",
        "outputId": "c701fec8-b6ed-4e8f-df7f-bcefccf9c6b2"
      },
      "source": [
        "#matrix dotproduct\n",
        "import numpy as np\n",
        "from timeit import Timer\n",
        " \n",
        "# Create 2 vectors of same length\n",
        "length = 100000\n",
        "vector1 = np.random.randint(1000, size=length)\n",
        "vector2 = np.random.randint(1000, size=length)\n",
        " \n",
        "# Finds dot product of vectors using for loop\n",
        "def dotproduct_forloop():\n",
        "  dot = 0.0\n",
        "  for i in range(length):\n",
        "    dot += vector1[i] * vector2[i]\n",
        " \n",
        "# Finds dot product of vectors using numpy vectorization\n",
        "def dotproduct_vectorize():\n",
        "  dot = np.dot(vector1, vector2)\n",
        "   \n",
        " \n",
        "# Finding execution time using timeit\n",
        "time_forloop = Timer(dotproduct_forloop).timeit(1)\n",
        "time_vectorize = Timer(dotproduct_vectorize).timeit(1)\n",
        " \n",
        "print(\"Finding dot product takes %0.9f units using for loop\"%time_forloop)\n",
        "print(\"Finding dot product takes %0.9f units using vectorization\"%time_vectorize)\n"
      ],
      "execution_count": 4,
      "outputs": [
        {
          "output_type": "stream",
          "name": "stdout",
          "text": [
            "Finding dot product takes 0.068932138 units using for loop\n",
            "Finding dot product takes 0.000135929 units using vectorization\n"
          ]
        }
      ]
    }
  ]
}