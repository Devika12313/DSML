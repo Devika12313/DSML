{
  "nbformat": 4,
  "nbformat_minor": 0,
  "metadata": {
    "colab": {
      "name": "exp2.ipynb",
      "provenance": [],
      "authorship_tag": "ABX9TyOvDUuuVTORbufXKMtUVdeC",
      "include_colab_link": true
    },
    "kernelspec": {
      "name": "python3",
      "display_name": "Python 3"
    },
    "language_info": {
      "name": "python"
    }
  },
  "cells": [
    {
      "cell_type": "markdown",
      "metadata": {
        "id": "view-in-github",
        "colab_type": "text"
      },
      "source": [
        "<a href=\"https://colab.research.google.com/github/Devika12313/DSML/blob/main/exp2.ipynb\" target=\"_parent\"><img src=\"https://colab.research.google.com/assets/colab-badge.svg\" alt=\"Open In Colab\"/></a>"
      ]
    },
    {
      "cell_type": "markdown",
      "metadata": {
        "id": "8i-YbKBJ9Aic"
      },
      "source": [
        "exp2"
      ]
    },
    {
      "cell_type": "markdown",
      "metadata": {
        "id": "0g1hUPso9AgA"
      },
      "source": [
        ""
      ]
    },
    {
      "cell_type": "code",
      "metadata": {
        "colab": {
          "base_uri": "https://localhost:8080/"
        },
        "id": "D3Lkl3tz8--c",
        "outputId": "8fc2b561-bad1-4680-9506-76664f715ee1"
      },
      "source": [
        "import numpy as np\n",
        "from timeit import Timer\n",
        " \n",
        "# Creating a large array of size 10**5\n",
        "array = np.random.randint(1000, size=10**5)\n",
        " \n",
        "def sum_using_forloop():\n",
        "  sum_array=0\n",
        "  for element in array:\n",
        "    sum_array += element\n",
        " \n",
        "def sum_using_builtin_method():\n",
        "  sum_array = sum(array)\n",
        " \n",
        "def sum_using_numpy():\n",
        "  sum_array = np.sum(array)\n",
        " \n",
        "time_forloop = Timer(sum_using_forloop).timeit(1)\n",
        "time_builtin = Timer(sum_using_builtin_method).timeit(1)\n",
        "time_numpy = Timer(sum_using_numpy).timeit(1)\n",
        " \n",
        "print(\"Summing elements takes %0.9f units using for loop\"%time_forloop)\n",
        "print(\"Summing elements takes %0.9f units using builtin method\"%time_builtin)\n",
        "print(\"Summing elements takes %0.9f units using numpy\"%time_numpy)\n",
        " \n",
        "print()\n",
        " \n",
        "def max_using_forloop():\n",
        "  maximum=array[0]\n",
        "  for element in array:\n",
        "    if element > maximum:\n",
        "      maximum = element\n",
        " \n",
        "def max_using_builtin_method():\n",
        "  maximum = max(array)\n",
        " \n",
        "def max_using_numpy():\n",
        "  maximum = np.max(array)\n",
        " \n",
        "time_forloop = Timer(max_using_forloop).timeit(1)\n",
        "time_builtin = Timer(max_using_builtin_method).timeit(1)\n",
        "time_numpy = Timer(max_using_numpy).timeit(1)\n",
        " \n",
        "print(\"Finding maximum element takes %0.9f units using for loop\"%time_forloop)\n",
        "print(\"Finding maximum element takes %0.9f units using built-in method\"%time_builtin)\n",
        "print(\"Finding maximum element takes %0.9f units using numpy\"%time_numpy)\n"
      ],
      "execution_count": null,
      "outputs": [
        {
          "output_type": "stream",
          "name": "stdout",
          "text": [
            "Summing elements takes 0.023601285 units using for loop\n",
            "Summing elements takes 0.018663223 units using builtin method\n",
            "Summing elements takes 0.000107940 units using numpy\n",
            "\n",
            "Finding maximum element takes 0.013543203 units using for loop\n",
            "Finding maximum element takes 0.011820042 units using built-in method\n",
            "Finding maximum element takes 0.000164040 units using numpy\n"
          ]
        }
      ]
    },
    {
      "cell_type": "code",
      "metadata": {
        "colab": {
          "base_uri": "https://localhost:8080/"
        },
        "id": "3qm2HSCMHXox",
        "outputId": "c701fec8-b6ed-4e8f-df7f-bcefccf9c6b2"
      },
      "source": [
        "#matrix dotproduct\n",
        "import numpy as np\n",
        "from timeit import Timer\n",
        " \n",
        "# Create 2 vectors of same length\n",
        "length = 100000\n",
        "vector1 = np.random.randint(1000, size=length)\n",
        "vector2 = np.random.randint(1000, size=length)\n",
        " \n",
        "# Finds dot product of vectors using for loop\n",
        "def dotproduct_forloop():\n",
        "  dot = 0.0\n",
        "  for i in range(length):\n",
        "    dot += vector1[i] * vector2[i]\n",
        " \n",
        "# Finds dot product of vectors using numpy vectorization\n",
        "def dotproduct_vectorize():\n",
        "  dot = np.dot(vector1, vector2)\n",
        "   \n",
        " \n",
        "# Finding execution time using timeit\n",
        "time_forloop = Timer(dotproduct_forloop).timeit(1)\n",
        "time_vectorize = Timer(dotproduct_vectorize).timeit(1)\n",
        " \n",
        "print(\"Finding dot product takes %0.9f units using for loop\"%time_forloop)\n",
        "print(\"Finding dot product takes %0.9f units using vectorization\"%time_vectorize)\n"
      ],
      "execution_count": null,
      "outputs": [
        {
          "output_type": "stream",
          "name": "stdout",
          "text": [
            "Finding dot product takes 0.068932138 units using for loop\n",
            "Finding dot product takes 0.000135929 units using vectorization\n"
          ]
        }
      ]
    },
    {
      "cell_type": "code",
      "metadata": {
        "colab": {
          "base_uri": "https://localhost:8080/"
        },
        "id": "YYjyc679Hu8J",
        "outputId": "5dbb09d5-f9da-4f42-dddf-9dac4cd4e0d0"
      },
      "source": [
        "#Outer product of 2 matrices\n",
        "import numpy as np\n",
        "from timeit import Timer\n",
        " \n",
        "# Create 2 vectors of same length\n",
        "length1 = 1000\n",
        "length2 = 500\n",
        "vector1 = np.random.randint(1000, size=length1)\n",
        "vector2 = np.random.randint(1000, size=length2)\n",
        " \n",
        "# Finds outer product of vectors using for loop\n",
        "def outerproduct_forloop():\n",
        "  outer_product = np.zeros((length1, length2), dtype='int')\n",
        "  for i in range(length1):\n",
        "    for j in range(length2):\n",
        "      outer_product[i, j] = vector1[i] * vector2[j]\n",
        " \n",
        "# Finds outer product of vectors using numpy vectorization\n",
        "def outerproduct_vectorize():\n",
        "  outer_product = np.outer(vector1, vector2)\n",
        "   \n",
        "# Finding execution time using timeit\n",
        "time_forloop = Timer(outerproduct_forloop).timeit(1)\n",
        "time_vectorize = Timer(outerproduct_vectorize).timeit(1)\n",
        " \n",
        "print(\"Finding outer product takes %0.9f units using for loop\"%time_forloop)\n",
        "print(\"Finding outer product takes %0.9f units using vectorization\"%time_vectorize)\n"
      ],
      "execution_count": null,
      "outputs": [
        {
          "output_type": "stream",
          "name": "stdout",
          "text": [
            "Finding outer product takes 0.282951126 units using for loop\n",
            "Finding outer product takes 0.000821680 units using vectorization\n"
          ]
        }
      ]
    },
    {
      "cell_type": "code",
      "metadata": {
        "colab": {
          "base_uri": "https://localhost:8080/"
        },
        "id": "ddjhtcrBIKJP",
        "outputId": "78c77b7e-2dd6-4b4b-c135-f7353cafe785"
      },
      "source": [
        "#Element wise product\n",
        "import numpy as np\n",
        "from timeit import Timer\n",
        " \n",
        "# Create 2 vectors of same length\n",
        "n = 500\n",
        "m = 700\n",
        "matrix1 = np.random.randint(1000, size=(n, m))\n",
        "matrix2 = np.random.randint(1000, size=(n, m))\n",
        " \n",
        "# Multiply 2 matrices using for loop\n",
        "def multiplication_forloop():\n",
        "  product = np.zeros((n, m), dtype='int')\n",
        "  for i in range(n):\n",
        "    for j in range(m):\n",
        "      product[i, j] = matrix1[i, j] * matrix2[i, j]\n",
        " \n",
        "# Multiply 2 matrices using numpy vectorization\n",
        "def multiplication_vectorize():\n",
        "  product = matrix1 * matrix2\n",
        " \n",
        "# Finding execution time using timeit\n",
        "time_forloop = Timer(multiplication_forloop).timeit(1)\n",
        "time_vectorize = Timer(multiplication_vectorize).timeit(1)\n",
        " \n",
        "print(\"Element Wise Multiplication takes %0.9f units using for loop\"%time_forloop)\n",
        "print(\"Element Wise Multiplication takes %0.9f units using vectorization\"%time_vectorize)\n"
      ],
      "execution_count": null,
      "outputs": [
        {
          "output_type": "stream",
          "name": "stdout",
          "text": [
            "Element Wise Multiplication takes 0.235340027 units using for loop\n",
            "Element Wise Multiplication takes 0.000498440 units using vectorization\n"
          ]
        }
      ]
    },
    {
      "cell_type": "markdown",
      "metadata": {
        "id": "VcyvPd0OOr14"
      },
      "source": [
        "Transformation using python"
      ]
    },
    {
      "cell_type": "code",
      "metadata": {
        "id": "Gih9PrwGIKHp",
        "colab": {
          "base_uri": "https://localhost:8080/"
        },
        "outputId": "56571813-6ff9-4b85-a257-9fa253ead02e"
      },
      "source": [
        "rows = int(input(\"Enter the Number of rows : \" ))\n",
        "column = int(input(\"Enter the Number of Columns: \"))\n",
        "\n",
        "print(\"Enter the elements of Matrix:\")\n",
        "matrix= [[int(input()) for i in range(column)] for i in range(rows)]\n",
        "print(\"-------Your  Matrix is---------\")\n",
        "for n in matrix:\n",
        "    print(n)\n",
        "\n",
        "#result matrix of column*row  dimension\n",
        "\n",
        "result =[[0 for i in range(rows)] for j in range(column)]\n",
        "\n",
        "#transpose the matrix\n",
        "for r in range(rows):\n",
        "   \n",
        "   for c in range(column):\n",
        "       #here we are grabbing the row data of matrix and putting it in the column on the result\n",
        "       result[c][r] = matrix[r][c]\n",
        "\n",
        "print(\"Transpose matrix is: \")\n",
        "for r in result:\n",
        "    print(r)\n"
      ],
      "execution_count": 2,
      "outputs": [
        {
          "output_type": "stream",
          "name": "stdout",
          "text": [
            "Enter the Number of rows : 2\n",
            "Enter the Number of Columns: 2\n",
            "Enter the elements of Matrix:\n",
            "1\n",
            "2\n",
            "3\n",
            "1\n",
            "-------Your  Matrix is---------\n",
            "[1, 2]\n",
            "[3, 1]\n",
            "Transpose matrix is: \n",
            "[1, 3]\n",
            "[2, 1]\n"
          ]
        }
      ]
    },
    {
      "cell_type": "markdown",
      "metadata": {
        "id": "583wOXSyQxb8"
      },
      "source": [
        "SVD using python\n"
      ]
    },
    {
      "cell_type": "code",
      "metadata": {
        "colab": {
          "base_uri": "https://localhost:8080/"
        },
        "id": "ym-jNXG6PbbQ",
        "outputId": "e321d71a-e23b-46c2-bb74-53ad5c3b8f16"
      },
      "source": [
        "import numpy as np\n",
        " \n",
        "#Creating a matrix A\n",
        "A = np.array([[3,4,3],[1,2,3],[4,2,1]])\n",
        " \n",
        "#Performing SVD\n",
        "U, D, VT = np.linalg.svd(A)\n",
        " \n",
        "#Checking if we can remake the original matrix using U,D,VT\n",
        "A_remake = (U @ np.diag(D) @ VT)\n",
        "print(A_remake)"
      ],
      "execution_count": 3,
      "outputs": [
        {
          "output_type": "stream",
          "name": "stdout",
          "text": [
            "[[3. 4. 3.]\n",
            " [1. 2. 3.]\n",
            " [4. 2. 1.]]\n"
          ]
        }
      ]
    }
  ]
}