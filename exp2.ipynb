{
  "nbformat": 4,
  "nbformat_minor": 0,
  "metadata": {
    "colab": {
      "name": "exp2.ipynb",
      "provenance": [],
      "authorship_tag": "ABX9TyMpRhDBeAGqwDedNwr+qI78",
      "include_colab_link": true
    },
    "kernelspec": {
      "name": "python3",
      "display_name": "Python 3"
    },
    "language_info": {
      "name": "python"
    }
  },
  "cells": [
    {
      "cell_type": "markdown",
      "metadata": {
        "id": "view-in-github",
        "colab_type": "text"
      },
      "source": [
        "<a href=\"https://colab.research.google.com/github/Devika12313/DSML/blob/main/exp2.ipynb\" target=\"_parent\"><img src=\"https://colab.research.google.com/assets/colab-badge.svg\" alt=\"Open In Colab\"/></a>"
      ]
    },
    {
      "cell_type": "markdown",
      "metadata": {
        "id": "8i-YbKBJ9Aic"
      },
      "source": [
        "exp2"
      ]
    },
    {
      "cell_type": "markdown",
      "metadata": {
        "id": "0g1hUPso9AgA"
      },
      "source": [
        ""
      ]
    },
    {
      "cell_type": "code",
      "metadata": {
        "colab": {
          "base_uri": "https://localhost:8080/",
          "height": 304
        },
        "id": "D3Lkl3tz8--c",
        "outputId": "7d581f92-3c4c-404b-ab31-9b891e5b6868"
      },
      "source": [
        "import numpy as np\n",
        "from timeit import Timer\n",
        " \n",
        "# Creating a large array of size 10**5\n",
        "array = np.random.randint(1000, size=10**5)\n",
        " \n",
        "def sum_using_forloop():\n",
        "  sum_array=0\n",
        "  for element in array:\n",
        "    sum_array += element\n",
        " \n",
        "def sum_using_builtin_method():\n",
        "  sum_array = sum(array)\n",
        " \n",
        "def sum_using_numpy():\n",
        "  sum_array = np.sum(array)\n",
        " \n",
        "time_forloop = Timer(sum_using_forloop).timeit(1)\n",
        "time_builtin = Timer(sum_using_builtin_method).timeit(1)\n",
        "time_numpy = Timer(sum_using_numpy).timeit(1)\n",
        " \n",
        "print(\"Summing elements takes %0.9f units using for loop\"%time_forloop)\n",
        "print(\"Summing elements takes %0.9f units using builtin method\"%time_builtin)\n",
        "print(\"Summing elements takes %0.9f units using numpy\"%time_numpy)\n",
        " \n",
        "print()\n",
        " \n",
        "def max_using_forloop():\n",
        "  maximum=array[0]\n",
        "  for element in array:\n",
        "    if element > maximum:\n",
        "      maximum = element\n",
        " \n",
        "def max_using_builtin_method():\n",
        "  maximum = max(array)\n",
        " \n",
        "def max_using_numpy():\n",
        "  maximum = np.max(array)\n",
        " \n",
        "time_forloop = Timer(max_using_forloop).timeit(1)\n",
        "time_builtin = Timer(max_using_built-in_method).timeit(1)\n",
        "time_numpy = Timer(max_using_numpy).timeit(1)\n",
        " \n",
        "print(\"Finding maximum element takes %0.9f units using for loop\"%time_forloop)\n",
        "print(\"Finding maximum element takes %0.9f units using built-in method\"%time_builtin)\n",
        "print(\"Finding maximum element takes %0.9f units using numpy\"%time_numpy)\n"
      ],
      "execution_count": 1,
      "outputs": [
        {
          "output_type": "stream",
          "name": "stdout",
          "text": [
            "Summing elements takes 0.026169083 units using for loop\n",
            "Summing elements takes 0.018777696 units using builtin method\n",
            "Summing elements takes 0.000148220 units using numpy\n",
            "\n"
          ]
        },
        {
          "output_type": "error",
          "ename": "NameError",
          "evalue": "ignored",
          "traceback": [
            "\u001b[0;31m---------------------------------------------------------------------------\u001b[0m",
            "\u001b[0;31mNameError\u001b[0m                                 Traceback (most recent call last)",
            "\u001b[0;32m<ipython-input-1-07f3dd056024>\u001b[0m in \u001b[0;36m<module>\u001b[0;34m()\u001b[0m\n\u001b[1;32m     39\u001b[0m \u001b[0;34m\u001b[0m\u001b[0m\n\u001b[1;32m     40\u001b[0m \u001b[0mtime_forloop\u001b[0m \u001b[0;34m=\u001b[0m \u001b[0mTimer\u001b[0m\u001b[0;34m(\u001b[0m\u001b[0mmax_using_forloop\u001b[0m\u001b[0;34m)\u001b[0m\u001b[0;34m.\u001b[0m\u001b[0mtimeit\u001b[0m\u001b[0;34m(\u001b[0m\u001b[0;36m1\u001b[0m\u001b[0;34m)\u001b[0m\u001b[0;34m\u001b[0m\u001b[0;34m\u001b[0m\u001b[0m\n\u001b[0;32m---> 41\u001b[0;31m \u001b[0mtime_builtin\u001b[0m \u001b[0;34m=\u001b[0m \u001b[0mTimer\u001b[0m\u001b[0;34m(\u001b[0m\u001b[0mmax_using_built\u001b[0m\u001b[0;34m-\u001b[0m\u001b[0min_method\u001b[0m\u001b[0;34m)\u001b[0m\u001b[0;34m.\u001b[0m\u001b[0mtimeit\u001b[0m\u001b[0;34m(\u001b[0m\u001b[0;36m1\u001b[0m\u001b[0;34m)\u001b[0m\u001b[0;34m\u001b[0m\u001b[0;34m\u001b[0m\u001b[0m\n\u001b[0m\u001b[1;32m     42\u001b[0m \u001b[0mtime_numpy\u001b[0m \u001b[0;34m=\u001b[0m \u001b[0mTimer\u001b[0m\u001b[0;34m(\u001b[0m\u001b[0mmax_using_numpy\u001b[0m\u001b[0;34m)\u001b[0m\u001b[0;34m.\u001b[0m\u001b[0mtimeit\u001b[0m\u001b[0;34m(\u001b[0m\u001b[0;36m1\u001b[0m\u001b[0;34m)\u001b[0m\u001b[0;34m\u001b[0m\u001b[0;34m\u001b[0m\u001b[0m\n\u001b[1;32m     43\u001b[0m \u001b[0;34m\u001b[0m\u001b[0m\n",
            "\u001b[0;31mNameError\u001b[0m: name 'max_using_built' is not defined"
          ]
        }
      ]
    }
  ]
}