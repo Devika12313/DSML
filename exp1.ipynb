{
  "nbformat": 4,
  "nbformat_minor": 0,
  "metadata": {
    "colab": {
      "name": "exp1.ipynb",
      "provenance": [],
      "authorship_tag": "ABX9TyPfA6rbDWYWlXcZmzmYW0vg",
      "include_colab_link": true
    },
    "kernelspec": {
      "name": "python3",
      "display_name": "Python 3"
    },
    "language_info": {
      "name": "python"
    }
  },
  "cells": [
    {
      "cell_type": "markdown",
      "metadata": {
        "id": "view-in-github",
        "colab_type": "text"
      },
      "source": [
        "<a href=\"https://colab.research.google.com/github/Devika12313/DSML/blob/main/exp1.ipynb\" target=\"_parent\"><img src=\"https://colab.research.google.com/assets/colab-badge.svg\" alt=\"Open In Colab\"/></a>"
      ]
    },
    {
      "cell_type": "markdown",
      "metadata": {
        "id": "1TEz637Q8tDa"
      },
      "source": [
        "exp1"
      ]
    },
    {
      "cell_type": "code",
      "metadata": {
        "colab": {
          "base_uri": "https://localhost:8080/"
        },
        "id": "2LyRRksA81_W",
        "outputId": "d0daaef8-b255-47ed-9306-c6ab295b9600"
      },
      "source": [
        "#datatypes\n",
        "a=1\n",
        "print(type(a))\n",
        "b='DevikaMca'\n",
        "print(type(b))\n",
        "c=[1,2]\n",
        "print(type(c))\n",
        "d={1:'Devika',2:'M'}\n",
        "print(type(d))\n",
        "e=True\n",
        "print(type(e))\n",
        "f=33.01\n",
        "print(type(f))\n",
        "g={\"Devika\",\"M\"}\n",
        "print(type(g))\n",
        "h=(10,56)\n",
        "print(type(h))\n",
        "i=bytes(10)\n",
        "print(type(i))\n",
        "j=bytearray()\n",
        "print(type(j))\n",
        "k=range(4)\n",
        "print(type(k))\n",
        "\n"
      ],
      "execution_count": 4,
      "outputs": [
        {
          "output_type": "stream",
          "name": "stdout",
          "text": [
            "<class 'int'>\n",
            "<class 'str'>\n",
            "<class 'list'>\n",
            "<class 'dict'>\n",
            "<class 'bool'>\n",
            "<class 'float'>\n",
            "<class 'set'>\n",
            "<class 'tuple'>\n",
            "<class 'bytes'>\n",
            "<class 'bytearray'>\n",
            "<class 'range'>\n"
          ]
        }
      ]
    },
    {
      "cell_type": "code",
      "metadata": {
        "colab": {
          "base_uri": "https://localhost:8080/"
        },
        "id": "6Cyx1RJZCstp",
        "outputId": "ed62a93e-2af8-468a-f59a-c180ea3abff7"
      },
      "source": [
        "#list\n",
        "mca_list=['Devika','Athulya','mca']\n",
        "print(mca_list[0])\n",
        "print(mca_list[0:2])\n",
        "print(mca_list[-2])"
      ],
      "execution_count": 6,
      "outputs": [
        {
          "output_type": "stream",
          "name": "stdout",
          "text": [
            "Devika\n",
            "['Devika', 'Athulya']\n",
            "Athulya\n"
          ]
        }
      ]
    },
    {
      "cell_type": "code",
      "metadata": {
        "colab": {
          "base_uri": "https://localhost:8080/"
        },
        "id": "8DAM8aIUCssE",
        "outputId": "f048be38-d849-47ea-cb6c-ab47060225a9"
      },
      "source": [
        "#dictionary\n",
        "d={1:'Devika',2:'Athulya',3:'mca'}\n",
        "print(d)\n",
        "\n",
        "print(\"1st name is\"+d[1])\n",
        "print(\"2nd name is\"+d[3])\n",
        "\n",
        "print(d.keys())\n",
        "print(d.values())"
      ],
      "execution_count": 8,
      "outputs": [
        {
          "output_type": "stream",
          "name": "stdout",
          "text": [
            "{1: 'Devika', 2: 'Athulya', 3: 'mca'}\n",
            "1st name isDevika\n",
            "2nd name ismca\n",
            "dict_keys([1, 2, 3])\n",
            "dict_values(['Devika', 'Athulya', 'mca'])\n"
          ]
        }
      ]
    }
  ]
}